{
  "cells": [
    {
      "cell_type": "code",
      "execution_count": 4,
      "metadata": {
        "id": "S7TN6Arch6JG"
      },
      "outputs": [],
      "source": [
        "#import paskages\n",
        "import os\n",
        "import seaborn as sns\n",
        "import matplotlib.pyplot as plt\n",
        "import numpy as np\n",
        "import pandas as pd\n",
        "# import cv2\n",
        "\n",
        "from sklearn.model_selection import train_test_split\n",
        "from tensorflow.keras.callbacks import ReduceLROnPlateau, EarlyStopping,ModelCheckpoint\n",
        "from sklearn.utils import resample\n",
        "\n",
        "import tensorflow as tf\n",
        "from tensorflow.keras.preprocessing.image import ImageDataGenerator\n",
        "from tensorflow.keras.utils import plot_model\n",
        "from tensorflow.keras import layers, models, callbacks\n",
        "from tensorflow.keras.applications import VGG16\n",
        "from keras.layers import *\n",
        "from sklearn.metrics import classification_report, accuracy_score"
      ]
    },
    {
      "cell_type": "code",
      "execution_count": 17,
      "metadata": {
        "id": "aWyjWIGFibQv"
      },
      "outputs": [],
      "source": [
        "# Set directories\n",
        "train_dir = 'data/Alzheimer_s Dataset/train'\n",
        "test_dir = 'data/Alzheimer_s Dataset/test'"
      ]
    },
    {
      "cell_type": "code",
      "execution_count": 18,
      "metadata": {
        "colab": {
          "base_uri": "https://localhost:8080/",
          "height": 180
        },
        "id": "ILaR2OWNieuw",
        "outputId": "809bbeec-6b17-4d45-d8b0-ab618ae409ee"
      },
      "outputs": [
        {
          "data": {
            "text/plain": [
              "['.DS_Store',\n",
              " 'VeryMildDemented',\n",
              " 'ModerateDemented',\n",
              " 'MildDemented',\n",
              " 'NonDemented']"
            ]
          },
          "execution_count": 18,
          "metadata": {},
          "output_type": "execute_result"
        }
      ],
      "source": [
        "# Get class names\n",
        "class_names = os.listdir(train_dir)\n",
        "class_names"
      ]
    }
  ],
  "metadata": {
    "colab": {
      "provenance": []
    },
    "kernelspec": {
      "display_name": "Python 3",
      "name": "python3"
    },
    "language_info": {
      "codemirror_mode": {
        "name": "ipython",
        "version": 3
      },
      "file_extension": ".py",
      "mimetype": "text/x-python",
      "name": "python",
      "nbconvert_exporter": "python",
      "pygments_lexer": "ipython3",
      "version": "3.10.13"
    }
  },
  "nbformat": 4,
  "nbformat_minor": 0
}
